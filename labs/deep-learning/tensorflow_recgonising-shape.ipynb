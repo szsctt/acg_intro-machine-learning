{
 "cells": [
  {
   "cell_type": "markdown",
   "id": "4895a1ad",
   "metadata": {},
   "source": [
    "# Deep learning\n",
    "\n",
    "Playing around with deep learning using TensorFlow\n",
    "\n",
    "Try to train a model to differentiate between circles and squares\n"
   ]
  },
  {
   "cell_type": "markdown",
   "id": "6bcca2ab",
   "metadata": {},
   "source": [
    "## Data\n",
    "\n",
    "I made 30 images of circles and 30 images of squares in Inkscape, which I saved as `.svg` files.  It was too much bother to use `cairo` to load these files, so I used `imagemagick` to convert them to `.png`.\n",
    "\n",
    "The first step is to load these files"
   ]
  },
  {
   "cell_type": "code",
   "execution_count": 1,
   "id": "2e3b4444",
   "metadata": {},
   "outputs": [],
   "source": [
    "import glob\n",
    "import os\n",
    "import re\n",
    "\n",
    "from PIL import Image, ImageOps\n",
    "import matplotlib.pyplot as plt\n",
    "import numpy as np\n",
    "import pandas as pd\n",
    "import tensorflow as tf\n",
    "from tensorflow import keras\n",
    "import keras_tuner as kt"
   ]
  },
  {
   "cell_type": "markdown",
   "id": "039b41ec",
   "metadata": {},
   "source": [
    "One image looks like this:"
   ]
  },
  {
   "cell_type": "code",
   "execution_count": 2,
   "id": "e73e7d88",
   "metadata": {},
   "outputs": [
    {
     "data": {
      "image/png": "[encoded data removed]",
      "text/plain": [
       "<PIL.PngImagePlugin.PngImageFile image mode=RGB size=100x100 at 0x10D738820>"
      ]
     },
     "execution_count": 2,
     "metadata": {},
     "output_type": "execute_result"
    }
   ],
   "source": [
    "# load one image\n",
    "file = \"shapes/circle1.png\"\n",
    "img = Image.open(file)\n",
    "img"
   ]
  },
  {
   "cell_type": "markdown",
   "id": "6870d579",
   "metadata": {},
   "source": [
    "I convert the images to greyscale:"
   ]
  },
  {
   "cell_type": "code",
   "execution_count": 3,
   "id": "a3b0f94b",
   "metadata": {},
   "outputs": [
    {
     "data": {
      "image/png": "[encoded data removed]",
      "text/plain": [
       "<PIL.Image.Image image mode=L size=100x100 at 0x10D73AAA0>"
      ]
     },
     "execution_count": 3,
     "metadata": {},
     "output_type": "execute_result"
    }
   ],
   "source": [
    "# convert to greyscale\n",
    "img = ImageOps.grayscale(img)\n",
    "img"
   ]
  },
  {
   "cell_type": "markdown",
   "id": "624951b0",
   "metadata": {},
   "source": [
    "I also resduce their size to 25x25 pixels"
   ]
  },
  {
   "cell_type": "code",
   "execution_count": 4,
   "id": "b9337271",
   "metadata": {},
   "outputs": [
    {
     "data": {
      "image/png": "[encoded data removed]",
      "text/plain": [
       "<PIL.Image.Image image mode=L size=25x25 at 0x10D73AAA0>"
      ]
     },
     "execution_count": 4,
     "metadata": {},
     "output_type": "execute_result"
    }
   ],
   "source": [
    "img.thumbnail((25,25), Image.ANTIALIAS)\n",
    "img"
   ]
  },
  {
   "cell_type": "markdown",
   "id": "36822716",
   "metadata": {},
   "source": [
    "And then to a numpy array, and scale all the values to be between 0 and 1:"
   ]
  },
  {
   "cell_type": "code",
   "execution_count": 5,
   "id": "f675c0c2",
   "metadata": {},
   "outputs": [
    {
     "name": "stdout",
     "output_type": "stream",
     "text": [
      "[[1.         1.         1.         1.         1.         1.\n",
      "  1.         1.         1.         1.         1.         1.\n",
      "  1.         1.         1.         1.         1.         1.\n",
      "  1.         1.         1.         1.         1.         1.\n",
      "  1.        ]\n",
      " [1.         1.         1.         1.         1.         1.\n",
      "  1.         1.         1.         1.         1.         1.\n",
      "  1.         1.         1.         1.         1.         1.\n",
      "  1.         1.         1.         1.         1.         1.\n",
      "  1.        ]\n",
      " [1.         1.         1.         1.         0.99215686 0.99607843\n",
      "  1.         0.99607843 0.99215686 1.         1.         1.\n",
      "  1.         1.         1.         1.         1.         1.\n",
      "  1.         1.         1.         1.         1.         1.\n",
      "  1.        ]\n",
      " [1.         1.         1.         0.99607843 1.         1.\n",
      "  0.99607843 1.         1.         0.99607843 1.         1.\n",
      "  1.         1.         1.         1.         1.         1.\n",
      "  1.         1.         1.         1.         1.         1.\n",
      "  1.        ]\n",
      " [1.         1.         0.99607843 1.         0.7882353  0.5176471\n",
      "  0.45882353 0.52156866 0.79607844 1.         1.         1.\n",
      "  1.         1.         1.         1.         1.         1.\n",
      "  1.         1.         1.         1.         1.         1.\n",
      "  1.        ]\n",
      " [1.         0.99215686 1.         0.72156864 0.25882354 0.25882354\n",
      "  0.27450982 0.25882354 0.2627451  0.7372549  1.         0.99215686\n",
      "  1.         1.         1.         1.         1.         1.\n",
      "  1.         1.         1.         1.         1.         1.\n",
      "  1.        ]\n",
      " [1.         1.         0.99215686 0.4117647  0.27450982 0.3137255\n",
      "  0.30588236 0.31764707 0.27450982 0.43137255 0.99607843 1.\n",
      "  1.         1.         1.         1.         1.         1.\n",
      "  1.         1.         1.         1.         1.         1.\n",
      "  1.        ]\n",
      " [1.         0.99607843 0.99607843 0.45490196 0.25490198 0.31764707\n",
      "  0.30980393 0.31764707 0.2509804  0.4745098  1.         0.99607843\n",
      "  1.         1.         1.         1.         1.         1.\n",
      "  1.         1.         1.         1.         1.         1.\n",
      "  1.        ]\n",
      " [1.         0.99215686 1.         0.8352941  0.34117648 0.24705882\n",
      "  0.24313726 0.2509804  0.34901962 0.84313726 1.         0.99215686\n",
      "  1.         1.         1.         1.         1.         1.\n",
      "  1.         1.         1.         1.         1.         1.\n",
      "  1.        ]\n",
      " [1.         1.         1.         1.         0.9254902  0.68235296\n",
      "  0.6156863  0.6862745  0.92941177 1.         1.         1.\n",
      "  1.         1.         1.         1.         1.         1.\n",
      "  1.         1.         1.         1.         1.         1.\n",
      "  1.        ]\n",
      " [1.         1.         1.         0.99607843 1.         1.\n",
      "  1.         1.         1.         0.99607843 1.         1.\n",
      "  1.         1.         1.         1.         1.         1.\n",
      "  1.         1.         1.         1.         1.         1.\n",
      "  1.        ]\n",
      " [1.         1.         1.         1.         0.99607843 0.9882353\n",
      "  0.9882353  0.9882353  0.99607843 1.         1.         1.\n",
      "  1.         1.         1.         1.         1.         1.\n",
      "  1.         1.         1.         1.         1.         1.\n",
      "  1.        ]\n",
      " [1.         1.         1.         1.         1.         1.\n",
      "  1.         1.         1.         1.         1.         1.\n",
      "  1.         1.         1.         1.         1.         1.\n",
      "  1.         1.         1.         1.         1.         1.\n",
      "  1.        ]\n",
      " [1.         1.         1.         1.         1.         1.\n",
      "  1.         1.         1.         1.         1.         1.\n",
      "  1.         1.         1.         1.         1.         1.\n",
      "  1.         1.         1.         1.         1.         1.\n",
      "  1.        ]\n",
      " [1.         1.         1.         1.         1.         1.\n",
      "  1.         1.         1.         1.         1.         1.\n",
      "  1.         1.         1.         1.         1.         1.\n",
      "  1.         1.         1.         1.         1.         1.\n",
      "  1.        ]\n",
      " [1.         1.         1.         1.         1.         1.\n",
      "  1.         1.         1.         1.         1.         1.\n",
      "  1.         1.         1.         1.         1.         1.\n",
      "  1.         1.         1.         1.         1.         1.\n",
      "  1.        ]\n",
      " [1.         1.         1.         1.         1.         1.\n",
      "  1.         1.         1.         1.         1.         1.\n",
      "  1.         1.         1.         1.         1.         1.\n",
      "  1.         1.         1.         1.         1.         1.\n",
      "  1.        ]\n",
      " [1.         1.         1.         1.         1.         1.\n",
      "  1.         1.         1.         1.         1.         1.\n",
      "  1.         1.         1.         1.         1.         1.\n",
      "  1.         1.         1.         1.         1.         1.\n",
      "  1.        ]\n",
      " [1.         1.         1.         1.         1.         1.\n",
      "  1.         1.         1.         1.         1.         1.\n",
      "  1.         1.         1.         1.         1.         1.\n",
      "  1.         1.         1.         1.         1.         1.\n",
      "  1.        ]\n",
      " [1.         1.         1.         1.         1.         1.\n",
      "  1.         1.         1.         1.         1.         1.\n",
      "  1.         1.         1.         1.         1.         1.\n",
      "  1.         1.         1.         1.         1.         1.\n",
      "  1.        ]\n",
      " [1.         1.         1.         1.         1.         1.\n",
      "  1.         1.         1.         1.         1.         1.\n",
      "  1.         1.         1.         1.         1.         1.\n",
      "  1.         1.         1.         1.         1.         1.\n",
      "  1.        ]\n",
      " [1.         1.         1.         1.         1.         1.\n",
      "  1.         1.         1.         1.         1.         1.\n",
      "  1.         1.         1.         1.         1.         1.\n",
      "  1.         1.         1.         1.         1.         1.\n",
      "  1.        ]\n",
      " [1.         1.         1.         1.         1.         1.\n",
      "  1.         1.         1.         1.         1.         1.\n",
      "  1.         1.         1.         1.         1.         1.\n",
      "  1.         1.         1.         1.         1.         1.\n",
      "  1.        ]\n",
      " [1.         1.         1.         1.         1.         1.\n",
      "  1.         1.         1.         1.         1.         1.\n",
      "  1.         1.         1.         1.         1.         1.\n",
      "  1.         1.         1.         1.         1.         1.\n",
      "  1.        ]\n",
      " [1.         1.         1.         1.         1.         1.\n",
      "  1.         1.         1.         1.         1.         1.\n",
      "  1.         1.         1.         1.         1.         1.\n",
      "  1.         1.         1.         1.         1.         1.\n",
      "  1.        ]]\n",
      "(25, 25)\n"
     ]
    }
   ],
   "source": [
    "# convert to numpy array\n",
    "print(np.array(img).astype(np.float32) / 255)\n",
    "print(np.array(img).shape) "
   ]
  },
  {
   "cell_type": "code",
   "execution_count": 6,
   "id": "1e962999",
   "metadata": {},
   "outputs": [],
   "source": [
    "# function to load data\n",
    "def load_img(filename):\n",
    "    img = Image.open(filename)\n",
    "    img = ImageOps.grayscale(img)\n",
    "    img.thumbnail((25,25), Image.ANTIALIAS)\n",
    "    return np.array(img).astype(np.float32) / 255\n",
    "\n",
    "\n",
    "# load data in dataframe\n",
    "df = pd.DataFrame({'filename' : glob.glob(\"shapes/*png\")})\n",
    "\n",
    "df['num'] = df['filename'].map(lambda x: int(re.search(\"\\\\d+\", x).group(0)))\n",
    "\n",
    "df['shape'] = df['filename'].map(lambda x: 'circle' if 'circle' in x else 'square')\n",
    "\n",
    "df['pixels'] = df['filename'].map(load_img)\n",
    "\n",
    "df['label'] = df['shape'].map(lambda x: 1 if x=='circle' else 0)\n"
   ]
  },
  {
   "cell_type": "code",
   "execution_count": null,
   "id": "249936b5",
   "metadata": {},
   "outputs": [],
   "source": []
  },
  {
   "cell_type": "code",
   "execution_count": 7,
   "id": "8e874588",
   "metadata": {},
   "outputs": [
    {
     "data": {
      "text/html": [
       "<div>\n",
       "<style scoped>\n",
       "    .dataframe tbody tr th:only-of-type {\n",
       "        vertical-align: middle;\n",
       "    }\n",
       "\n",
       "    .dataframe tbody tr th {\n",
       "        vertical-align: top;\n",
       "    }\n",
       "\n",
       "    .dataframe thead th {\n",
       "        text-align: right;\n",
       "    }\n",
       "</style>\n",
       "<table border=\"1\" class=\"dataframe\">\n",
       "  <thead>\n",
       "    <tr style=\"text-align: right;\">\n",
       "      <th></th>\n",
       "      <th>filename</th>\n",
       "      <th>num</th>\n",
       "      <th>shape</th>\n",
       "      <th>pixels</th>\n",
       "      <th>label</th>\n",
       "    </tr>\n",
       "  </thead>\n",
       "  <tbody>\n",
       "    <tr>\n",
       "      <th>0</th>\n",
       "      <td>shapes/square43.png</td>\n",
       "      <td>43</td>\n",
       "      <td>square</td>\n",
       "      <td>[[1.0, 0.99215686, 0.5411765, 0.45882353, 0.46...</td>\n",
       "      <td>0</td>\n",
       "    </tr>\n",
       "    <tr>\n",
       "      <th>1</th>\n",
       "      <td>shapes/square34.png</td>\n",
       "      <td>34</td>\n",
       "      <td>square</td>\n",
       "      <td>[[1.0, 1.0, 1.0, 1.0, 1.0, 1.0, 1.0, 1.0, 1.0,...</td>\n",
       "      <td>0</td>\n",
       "    </tr>\n",
       "    <tr>\n",
       "      <th>2</th>\n",
       "      <td>shapes/square32.png</td>\n",
       "      <td>32</td>\n",
       "      <td>square</td>\n",
       "      <td>[[1.0, 1.0, 1.0, 1.0, 1.0, 1.0, 1.0, 1.0, 1.0,...</td>\n",
       "      <td>0</td>\n",
       "    </tr>\n",
       "    <tr>\n",
       "      <th>3</th>\n",
       "      <td>shapes/circle13.png</td>\n",
       "      <td>13</td>\n",
       "      <td>circle</td>\n",
       "      <td>[[1.0, 1.0, 0.99607843, 1.0, 1.0, 1.0, 1.0, 0....</td>\n",
       "      <td>1</td>\n",
       "    </tr>\n",
       "    <tr>\n",
       "      <th>4</th>\n",
       "      <td>shapes/circle11.png</td>\n",
       "      <td>11</td>\n",
       "      <td>circle</td>\n",
       "      <td>[[1.0, 1.0, 1.0, 1.0, 1.0, 1.0, 1.0, 1.0, 1.0,...</td>\n",
       "      <td>1</td>\n",
       "    </tr>\n",
       "  </tbody>\n",
       "</table>\n",
       "</div>"
      ],
      "text/plain": [
       "              filename  num   shape  \\\n",
       "0  shapes/square43.png   43  square   \n",
       "1  shapes/square34.png   34  square   \n",
       "2  shapes/square32.png   32  square   \n",
       "3  shapes/circle13.png   13  circle   \n",
       "4  shapes/circle11.png   11  circle   \n",
       "\n",
       "                                              pixels  label  \n",
       "0  [[1.0, 0.99215686, 0.5411765, 0.45882353, 0.46...      0  \n",
       "1  [[1.0, 1.0, 1.0, 1.0, 1.0, 1.0, 1.0, 1.0, 1.0,...      0  \n",
       "2  [[1.0, 1.0, 1.0, 1.0, 1.0, 1.0, 1.0, 1.0, 1.0,...      0  \n",
       "3  [[1.0, 1.0, 0.99607843, 1.0, 1.0, 1.0, 1.0, 0....      1  \n",
       "4  [[1.0, 1.0, 1.0, 1.0, 1.0, 1.0, 1.0, 1.0, 1.0,...      1  "
      ]
     },
     "execution_count": 7,
     "metadata": {},
     "output_type": "execute_result"
    }
   ],
   "source": [
    "# randomize rows\n",
    "df = df.sample(frac=1).reset_index(drop=True)\n",
    "df.head()"
   ]
  },
  {
   "cell_type": "markdown",
   "id": "c0a60b6d",
   "metadata": {},
   "source": [
    "Let's look at a few of the images:"
   ]
  },
  {
   "cell_type": "code",
   "execution_count": 8,
   "id": "a2ffb518",
   "metadata": {},
   "outputs": [
    {
     "name": "stdout",
     "output_type": "stream",
     "text": [
      "square\n"
     ]
    },
    {
     "data": {
      "image/png": "[encoded data removed]",
      "text/plain": [
       "<PIL.Image.Image image mode=L size=25x25 at 0x18A49E650>"
      ]
     },
     "metadata": {},
     "output_type": "display_data"
    }
   ],
   "source": [
    "img = Image.fromarray(df['pixels'][0])\n",
    "print(df['shape'][0])\n",
    "display(ImageOps.grayscale(img))\n"
   ]
  },
  {
   "cell_type": "code",
   "execution_count": 9,
   "id": "ec3278a6",
   "metadata": {},
   "outputs": [
    {
     "name": "stdout",
     "output_type": "stream",
     "text": [
      "square\n"
     ]
    },
    {
     "data": {
      "image/png": "[encoded data removed]",
      "text/plain": [
       "<PIL.Image.Image image mode=L size=25x25 at 0x18A49E110>"
      ]
     },
     "metadata": {},
     "output_type": "display_data"
    }
   ],
   "source": [
    "\n",
    "img2 = Image.fromarray(df['pixels'][1])\n",
    "print(df['shape'][1])\n",
    "display(ImageOps.grayscale(img2))"
   ]
  },
  {
   "cell_type": "markdown",
   "id": "53449174",
   "metadata": {},
   "source": [
    "They look the same?!  Let's compare the arrays:"
   ]
  },
  {
   "cell_type": "code",
   "execution_count": 10,
   "id": "d92ba586",
   "metadata": {},
   "outputs": [
    {
     "data": {
      "text/plain": [
       "array([[ True, False, False, False, False, False, False, False, False,\n",
       "        False, False, False, False, False, False, False, False,  True,\n",
       "         True,  True,  True,  True,  True,  True,  True],\n",
       "       [False, False, False, False, False, False, False, False, False,\n",
       "        False, False, False, False, False, False, False, False, False,\n",
       "        False, False, False,  True, False,  True,  True],\n",
       "       [False,  True, False, False, False, False, False, False, False,\n",
       "        False, False, False, False, False, False, False, False, False,\n",
       "        False, False, False,  True, False,  True,  True],\n",
       "       [False, False, False, False, False, False, False, False, False,\n",
       "        False, False, False, False,  True, False, False, False, False,\n",
       "        False, False, False,  True, False,  True,  True],\n",
       "       [False, False, False, False, False,  True, False,  True,  True,\n",
       "         True,  True,  True,  True, False, False, False, False, False,\n",
       "        False, False, False,  True, False,  True,  True],\n",
       "       [False,  True, False, False, False, False, False,  True,  True,\n",
       "         True,  True,  True,  True,  True, False,  True, False, False,\n",
       "        False, False, False,  True, False,  True,  True],\n",
       "       [False,  True, False, False, False, False, False, False,  True,\n",
       "         True,  True,  True,  True,  True, False, False, False, False,\n",
       "        False, False, False,  True, False,  True,  True],\n",
       "       [False,  True, False, False, False, False,  True, False,  True,\n",
       "         True,  True,  True,  True,  True,  True, False,  True, False,\n",
       "        False, False, False,  True, False,  True,  True],\n",
       "       [False,  True, False, False, False, False, False, False, False,\n",
       "         True,  True,  True,  True,  True,  True, False, False, False,\n",
       "        False, False, False,  True, False,  True,  True],\n",
       "       [False,  True, False, False, False, False, False,  True, False,\n",
       "         True,  True,  True,  True,  True,  True,  True, False, False,\n",
       "        False, False, False,  True, False,  True,  True],\n",
       "       [False,  True, False, False, False, False, False, False, False,\n",
       "        False,  True,  True,  True,  True,  True,  True, False,  True,\n",
       "        False, False, False, False, False,  True,  True],\n",
       "       [False,  True, False, False, False, False, False, False, False,\n",
       "        False, False, False, False, False, False, False, False, False,\n",
       "        False, False, False, False, False,  True,  True],\n",
       "       [False,  True, False, False, False, False, False, False, False,\n",
       "        False, False,  True,  True,  True,  True,  True,  True, False,\n",
       "        False, False, False, False,  True,  True,  True],\n",
       "       [False,  True, False, False, False, False, False, False, False,\n",
       "        False, False, False, False, False, False, False, False, False,\n",
       "        False, False, False,  True, False,  True,  True],\n",
       "       [ True,  True, False, False, False, False, False, False, False,\n",
       "        False, False, False, False, False, False, False, False, False,\n",
       "        False, False, False, False, False, False,  True],\n",
       "       [ True,  True,  True,  True,  True,  True,  True, False,  True,\n",
       "        False, False, False, False, False, False, False, False, False,\n",
       "        False, False, False, False,  True, False,  True],\n",
       "       [ True,  True,  True, False, False, False, False, False,  True,\n",
       "        False, False, False, False, False, False, False, False, False,\n",
       "        False, False, False, False, False,  True, False],\n",
       "       [ True,  True,  True,  True,  True,  True,  True,  True, False,\n",
       "         True, False, False, False, False, False, False, False, False,\n",
       "        False, False, False, False, False,  True, False],\n",
       "       [ True,  True,  True,  True,  True,  True,  True,  True, False,\n",
       "        False, False, False, False, False, False, False, False, False,\n",
       "        False, False, False, False, False,  True,  True],\n",
       "       [ True,  True,  True,  True,  True,  True,  True,  True,  True,\n",
       "         True,  True,  True,  True,  True,  True,  True,  True,  True,\n",
       "         True,  True,  True,  True,  True,  True,  True],\n",
       "       [ True,  True,  True,  True,  True,  True,  True,  True,  True,\n",
       "         True, False, False, False, False, False, False, False, False,\n",
       "        False, False, False, False, False,  True,  True],\n",
       "       [ True,  True,  True,  True,  True,  True,  True,  True,  True,\n",
       "         True,  True,  True,  True,  True,  True,  True,  True,  True,\n",
       "         True,  True,  True,  True,  True,  True,  True],\n",
       "       [ True,  True,  True,  True,  True,  True,  True,  True,  True,\n",
       "         True,  True,  True,  True,  True,  True,  True,  True,  True,\n",
       "         True,  True,  True,  True,  True,  True,  True],\n",
       "       [ True,  True,  True,  True,  True,  True,  True,  True,  True,\n",
       "         True,  True,  True,  True,  True,  True,  True,  True,  True,\n",
       "         True,  True,  True,  True,  True,  True,  True],\n",
       "       [ True,  True,  True,  True,  True,  True,  True,  True,  True,\n",
       "         True,  True,  True,  True,  True,  True,  True,  True,  True,\n",
       "         True,  True,  True,  True,  True,  True,  True]])"
      ]
     },
     "execution_count": 10,
     "metadata": {},
     "output_type": "execute_result"
    }
   ],
   "source": [
    "df['pixels'][0] == df['pixels'][1]"
   ]
  },
  {
   "cell_type": "markdown",
   "id": "2f19fd0d",
   "metadata": {},
   "source": [
    "Something strange is going on...  Let's try displaying them with matplotlib:"
   ]
  },
  {
   "cell_type": "code",
   "execution_count": 67,
   "id": "42cbb172",
   "metadata": {},
   "outputs": [
    {
     "data": {
      "image/png": "[encoded data removed]",
      "text/plain": [
       "<Figure size 432x288 with 9 Axes>"
      ]
     },
     "metadata": {
      "needs_background": "light"
     },
     "output_type": "display_data"
    }
   ],
   "source": [
    "fig, axs = plt.subplots(3,3)\n",
    "k = 0\n",
    "for i in range(3):\n",
    "    for j in range(3):\n",
    "        \n",
    "        axs[i,j].imshow(df['pixels'][k])\n",
    "        axs[i,j].set_title(df['shape'][k])\n",
    "        k += 1"
   ]
  },
  {
   "cell_type": "markdown",
   "id": "1e4df2a3",
   "metadata": {},
   "source": [
    "So it's just something weird going on with PIL."
   ]
  },
  {
   "cell_type": "markdown",
   "id": "b7fe9dc9",
   "metadata": {},
   "source": [
    "Let's split the data into a test and train dataset - 80% for testing, 20% for training"
   ]
  },
  {
   "cell_type": "code",
   "execution_count": 13,
   "id": "34da8a6c",
   "metadata": {},
   "outputs": [],
   "source": [
    "test_rows = round(df.shape[0] * 0.8)\n",
    "x_train, x_test = df['pixels'][1:test_rows].to_list(), df['pixels'][test_rows:].to_list()\n",
    "y_train, y_test = df['label'][1:test_rows], df['label'][test_rows:]"
   ]
  },
  {
   "cell_type": "code",
   "execution_count": 14,
   "id": "17497c12",
   "metadata": {},
   "outputs": [
    {
     "name": "stderr",
     "output_type": "stream",
     "text": [
      "2022-02-24 11:59:26.405428: I tensorflow/core/platform/cpu_feature_guard.cc:151] This TensorFlow binary is optimized with oneAPI Deep Neural Network Library (oneDNN) to use the following CPU instructions in performance-critical operations:  SSE4.1 SSE4.2 AVX AVX2 FMA\n",
      "To enable them in other operations, rebuild TensorFlow with the appropriate compiler flags.\n"
     ]
    }
   ],
   "source": [
    "x_train = tf.convert_to_tensor(x_train)\n",
    "x_test = tf.convert_to_tensor(x_test)\n",
    "y_train = tf.convert_to_tensor(y_train)\n",
    "t_test = tf.convert_to_tensor(y_train)"
   ]
  },
  {
   "cell_type": "markdown",
   "id": "67772b7f",
   "metadata": {},
   "source": [
    "## Model\n",
    "\n",
    "We next define the model - I use something similar to the [basic example in the documentation](https://www.tensorflow.org/tutorials/keras/classification).  THe first layer reformats the 100x100 images, the second contains 128 nodes, and the last returns a logits array with length 2 (the number of classes)"
   ]
  },
  {
   "cell_type": "code",
   "execution_count": 15,
   "id": "205e385d",
   "metadata": {},
   "outputs": [],
   "source": [
    "model = tf.keras.Sequential([\n",
    "    tf.keras.layers.Flatten(input_shape=(25, 25)),\n",
    "    tf.keras.layers.Dense(128, activation='relu'),\n",
    "    tf.keras.layers.Dense(2)\n",
    "])\n",
    "\n",
    "model.compile(optimizer='adam',\n",
    "              loss=tf.keras.losses.SparseCategoricalCrossentropy(from_logits=True),\n",
    "              metrics=['accuracy'])"
   ]
  },
  {
   "cell_type": "code",
   "execution_count": 16,
   "id": "861e5db7",
   "metadata": {},
   "outputs": [
    {
     "name": "stdout",
     "output_type": "stream",
     "text": [
      "Epoch 1/10\n",
      "3/3 [==============================] - 0s 3ms/step - loss: 1.2372 - accuracy: 0.4574\n",
      "Epoch 2/10\n",
      "3/3 [==============================] - 0s 2ms/step - loss: 0.9806 - accuracy: 0.4894\n",
      "Epoch 3/10\n",
      "3/3 [==============================] - 0s 2ms/step - loss: 0.6910 - accuracy: 0.5638\n",
      "Epoch 4/10\n",
      "3/3 [==============================] - 0s 2ms/step - loss: 0.8119 - accuracy: 0.5426\n",
      "Epoch 5/10\n",
      "3/3 [==============================] - 0s 2ms/step - loss: 0.7485 - accuracy: 0.5000\n",
      "Epoch 6/10\n",
      "3/3 [==============================] - 0s 2ms/step - loss: 0.7052 - accuracy: 0.5319\n",
      "Epoch 7/10\n",
      "3/3 [==============================] - 0s 2ms/step - loss: 0.6747 - accuracy: 0.5957\n",
      "Epoch 8/10\n",
      "3/3 [==============================] - 0s 2ms/step - loss: 0.6570 - accuracy: 0.5957\n",
      "Epoch 9/10\n",
      "3/3 [==============================] - 0s 2ms/step - loss: 0.6368 - accuracy: 0.5745\n",
      "Epoch 10/10\n",
      "3/3 [==============================] - 0s 2ms/step - loss: 0.6055 - accuracy: 0.6277\n"
     ]
    },
    {
     "data": {
      "text/plain": [
       "<keras.callbacks.History at 0x18a8ac910>"
      ]
     },
     "execution_count": 16,
     "metadata": {},
     "output_type": "execute_result"
    }
   ],
   "source": [
    "model.fit(x_train, y_train, epochs=10)\n",
    "\n"
   ]
  },
  {
   "cell_type": "markdown",
   "id": "c679d77e",
   "metadata": {},
   "source": [
    "The model has learned something, but can it be improved?  Perhaps we could try the [keras tuner](https://www.tensorflow.org/tutorials/keras/keras_tuner)."
   ]
  },
  {
   "cell_type": "code",
   "execution_count": 17,
   "id": "225ad0f2",
   "metadata": {},
   "outputs": [],
   "source": [
    "def model_builder(hp):\n",
    "  model = keras.Sequential()\n",
    "  model.add(keras.layers.Flatten(input_shape=(25, 25)))\n",
    "\n",
    "  # Tune the number of units in the first Dense layer\n",
    "  # Choose an optimal value between 32-512\n",
    "  hp_units = hp.Int('units', min_value=32, max_value=512, step=32)\n",
    "  model.add(keras.layers.Dense(units=hp_units, activation='relu'))\n",
    "  model.add(keras.layers.Dense(2))\n",
    "\n",
    "  # Tune the learning rate for the optimizer\n",
    "  # Choose an optimal value from 0.01, 0.001, or 0.0001\n",
    "  hp_learning_rate = hp.Choice('learning_rate', values=[1e-2, 1e-3, 1e-4])\n",
    "\n",
    "  model.compile(optimizer=keras.optimizers.Adam(learning_rate=hp_learning_rate),\n",
    "                loss=keras.losses.SparseCategoricalCrossentropy(from_logits=True),\n",
    "                metrics=['accuracy'])\n",
    "\n",
    "  return model"
   ]
  },
  {
   "cell_type": "code",
   "execution_count": 18,
   "id": "5ca898c1",
   "metadata": {},
   "outputs": [],
   "source": [
    "tuner = kt.Hyperband(model_builder,\n",
    "                     objective='val_accuracy',\n",
    "                     max_epochs=10,\n",
    "                     factor=3,\n",
    "                     directory='my_dir',\n",
    "                     project_name='intro_to_kt',\n",
    "                    overwrite=True)\n"
   ]
  },
  {
   "cell_type": "code",
   "execution_count": null,
   "id": "dcbd2296",
   "metadata": {},
   "outputs": [],
   "source": [
    "\n"
   ]
  },
  {
   "cell_type": "code",
   "execution_count": 19,
   "id": "258bac27",
   "metadata": {},
   "outputs": [
    {
     "name": "stdout",
     "output_type": "stream",
     "text": [
      "Trial 30 Complete [00h 00m 00s]\n",
      "val_accuracy: 0.7368420958518982\n",
      "\n",
      "Best val_accuracy So Far: 0.8421052694320679\n",
      "Total elapsed time: 00h 00m 21s\n",
      "INFO:tensorflow:Oracle triggered exit\n",
      "\n",
      "The hyperparameter search is complete. The optimal number of units in the first densely-connected\n",
      "layer is 288 and the optimal learning rate for the optimizer\n",
      "is 0.001.\n",
      "\n"
     ]
    }
   ],
   "source": [
    "tuner.search(x_train, y_train, epochs=50, validation_split=0.2)\n",
    "\n",
    "# Get the optimal hyperparameters\n",
    "best_hps=tuner.get_best_hyperparameters(num_trials=1)[0]\n",
    "\n",
    "print(f\"\"\"\n",
    "The hyperparameter search is complete. The optimal number of units in the first densely-connected\n",
    "layer is {best_hps.get('units')} and the optimal learning rate for the optimizer\n",
    "is {best_hps.get('learning_rate')}.\n",
    "\"\"\")\n"
   ]
  },
  {
   "cell_type": "markdown",
   "id": "cdb5152d",
   "metadata": {},
   "source": []
  },
  {
   "cell_type": "code",
   "execution_count": 20,
   "id": "10dca18b",
   "metadata": {},
   "outputs": [
    {
     "name": "stdout",
     "output_type": "stream",
     "text": [
      "Epoch 1/50\n",
      "3/3 [==============================] - 0s 60ms/step - loss: 2.3643 - accuracy: 0.4267 - val_loss: 1.5244 - val_accuracy: 0.3158\n",
      "Epoch 2/50\n",
      "3/3 [==============================] - 0s 11ms/step - loss: 1.2288 - accuracy: 0.4267 - val_loss: 0.6118 - val_accuracy: 0.6842\n",
      "Epoch 3/50\n",
      "3/3 [==============================] - 0s 12ms/step - loss: 0.9069 - accuracy: 0.4133 - val_loss: 1.6678 - val_accuracy: 0.3158\n",
      "Epoch 4/50\n",
      "3/3 [==============================] - 0s 12ms/step - loss: 0.9658 - accuracy: 0.5733 - val_loss: 0.8801 - val_accuracy: 0.3684\n",
      "Epoch 5/50\n",
      "3/3 [==============================] - 0s 12ms/step - loss: 0.7456 - accuracy: 0.5067 - val_loss: 0.5954 - val_accuracy: 0.7368\n",
      "Epoch 6/50\n",
      "3/3 [==============================] - 0s 11ms/step - loss: 0.7978 - accuracy: 0.5200 - val_loss: 0.9086 - val_accuracy: 0.3684\n",
      "Epoch 7/50\n",
      "3/3 [==============================] - 0s 13ms/step - loss: 0.6954 - accuracy: 0.6000 - val_loss: 0.8963 - val_accuracy: 0.3684\n",
      "Epoch 8/50\n",
      "3/3 [==============================] - 0s 11ms/step - loss: 0.6786 - accuracy: 0.5733 - val_loss: 0.5840 - val_accuracy: 0.6842\n",
      "Epoch 9/50\n",
      "3/3 [==============================] - 0s 11ms/step - loss: 0.6368 - accuracy: 0.7067 - val_loss: 0.8726 - val_accuracy: 0.3684\n",
      "Epoch 10/50\n",
      "3/3 [==============================] - 0s 11ms/step - loss: 0.6182 - accuracy: 0.6133 - val_loss: 0.9558 - val_accuracy: 0.3684\n",
      "Epoch 11/50\n",
      "3/3 [==============================] - 0s 11ms/step - loss: 0.5998 - accuracy: 0.6667 - val_loss: 0.6703 - val_accuracy: 0.4737\n",
      "Epoch 12/50\n",
      "3/3 [==============================] - 0s 12ms/step - loss: 0.5650 - accuracy: 0.7867 - val_loss: 0.8111 - val_accuracy: 0.4211\n",
      "Epoch 13/50\n",
      "3/3 [==============================] - 0s 11ms/step - loss: 0.5649 - accuracy: 0.7600 - val_loss: 0.8587 - val_accuracy: 0.4211\n",
      "Epoch 14/50\n",
      "3/3 [==============================] - 0s 11ms/step - loss: 0.5293 - accuracy: 0.8533 - val_loss: 0.7044 - val_accuracy: 0.4211\n",
      "Epoch 15/50\n",
      "3/3 [==============================] - 0s 13ms/step - loss: 0.5397 - accuracy: 0.7333 - val_loss: 0.7913 - val_accuracy: 0.4211\n",
      "Epoch 16/50\n",
      "3/3 [==============================] - 0s 11ms/step - loss: 0.5133 - accuracy: 0.8000 - val_loss: 0.8947 - val_accuracy: 0.4211\n",
      "Epoch 17/50\n",
      "3/3 [==============================] - 0s 11ms/step - loss: 0.5015 - accuracy: 0.7867 - val_loss: 0.6020 - val_accuracy: 0.6842\n",
      "Epoch 18/50\n",
      "3/3 [==============================] - 0s 12ms/step - loss: 0.5158 - accuracy: 0.8000 - val_loss: 0.7542 - val_accuracy: 0.4211\n",
      "Epoch 19/50\n",
      "3/3 [==============================] - 0s 12ms/step - loss: 0.5135 - accuracy: 0.7733 - val_loss: 0.7719 - val_accuracy: 0.4211\n",
      "Epoch 20/50\n",
      "3/3 [==============================] - 0s 12ms/step - loss: 0.4587 - accuracy: 0.8667 - val_loss: 0.5465 - val_accuracy: 0.7895\n",
      "Epoch 21/50\n",
      "3/3 [==============================] - 0s 11ms/step - loss: 0.5774 - accuracy: 0.6533 - val_loss: 0.7504 - val_accuracy: 0.4211\n",
      "Epoch 22/50\n",
      "3/3 [==============================] - 0s 12ms/step - loss: 0.4480 - accuracy: 0.8267 - val_loss: 0.8758 - val_accuracy: 0.4737\n",
      "Epoch 23/50\n",
      "3/3 [==============================] - 0s 12ms/step - loss: 0.4531 - accuracy: 0.8400 - val_loss: 0.6281 - val_accuracy: 0.5263\n",
      "Epoch 24/50\n",
      "3/3 [==============================] - 0s 11ms/step - loss: 0.4766 - accuracy: 0.7733 - val_loss: 0.6476 - val_accuracy: 0.4737\n",
      "Epoch 25/50\n",
      "3/3 [==============================] - 0s 11ms/step - loss: 0.4450 - accuracy: 0.8533 - val_loss: 0.9777 - val_accuracy: 0.4737\n",
      "Epoch 26/50\n",
      "3/3 [==============================] - 0s 11ms/step - loss: 0.4452 - accuracy: 0.8000 - val_loss: 0.6360 - val_accuracy: 0.5789\n",
      "Epoch 27/50\n",
      "3/3 [==============================] - 0s 15ms/step - loss: 0.4241 - accuracy: 0.8133 - val_loss: 0.7328 - val_accuracy: 0.4737\n",
      "Epoch 28/50\n",
      "3/3 [==============================] - 0s 11ms/step - loss: 0.4080 - accuracy: 0.8533 - val_loss: 0.8720 - val_accuracy: 0.4211\n",
      "Epoch 29/50\n",
      "3/3 [==============================] - 0s 12ms/step - loss: 0.4071 - accuracy: 0.8533 - val_loss: 0.6684 - val_accuracy: 0.4737\n",
      "Epoch 30/50\n",
      "3/3 [==============================] - 0s 12ms/step - loss: 0.3893 - accuracy: 0.8133 - val_loss: 0.9410 - val_accuracy: 0.4211\n",
      "Epoch 31/50\n",
      "3/3 [==============================] - 0s 12ms/step - loss: 0.4087 - accuracy: 0.8267 - val_loss: 0.8629 - val_accuracy: 0.4211\n",
      "Epoch 32/50\n",
      "3/3 [==============================] - 0s 13ms/step - loss: 0.3924 - accuracy: 0.8133 - val_loss: 0.6306 - val_accuracy: 0.4737\n",
      "Epoch 33/50\n",
      "3/3 [==============================] - 0s 12ms/step - loss: 0.3758 - accuracy: 0.8267 - val_loss: 0.8921 - val_accuracy: 0.4211\n",
      "Epoch 34/50\n",
      "3/3 [==============================] - 0s 12ms/step - loss: 0.3836 - accuracy: 0.8533 - val_loss: 0.7744 - val_accuracy: 0.4211\n",
      "Epoch 35/50\n",
      "3/3 [==============================] - 0s 11ms/step - loss: 0.3530 - accuracy: 0.8667 - val_loss: 0.6348 - val_accuracy: 0.5789\n",
      "Epoch 36/50\n",
      "3/3 [==============================] - 0s 12ms/step - loss: 0.3651 - accuracy: 0.8667 - val_loss: 0.8274 - val_accuracy: 0.4211\n",
      "Epoch 37/50\n",
      "3/3 [==============================] - 0s 11ms/step - loss: 0.3510 - accuracy: 0.9200 - val_loss: 0.7886 - val_accuracy: 0.4211\n",
      "Epoch 38/50\n",
      "3/3 [==============================] - 0s 11ms/step - loss: 0.3385 - accuracy: 0.9067 - val_loss: 0.6043 - val_accuracy: 0.5789\n",
      "Epoch 39/50\n",
      "3/3 [==============================] - 0s 11ms/step - loss: 0.3645 - accuracy: 0.8533 - val_loss: 0.6958 - val_accuracy: 0.4737\n",
      "Epoch 40/50\n",
      "3/3 [==============================] - 0s 11ms/step - loss: 0.3349 - accuracy: 0.8400 - val_loss: 0.9818 - val_accuracy: 0.4211\n",
      "Epoch 41/50\n",
      "3/3 [==============================] - 0s 12ms/step - loss: 0.3368 - accuracy: 0.8800 - val_loss: 0.6829 - val_accuracy: 0.5263\n",
      "Epoch 42/50\n",
      "3/3 [==============================] - 0s 11ms/step - loss: 0.3275 - accuracy: 0.8133 - val_loss: 0.6875 - val_accuracy: 0.5263\n",
      "Epoch 43/50\n",
      "3/3 [==============================] - 0s 11ms/step - loss: 0.3206 - accuracy: 0.8533 - val_loss: 0.8248 - val_accuracy: 0.4211\n",
      "Epoch 44/50\n",
      "3/3 [==============================] - 0s 12ms/step - loss: 0.3092 - accuracy: 0.8933 - val_loss: 0.6915 - val_accuracy: 0.5263\n",
      "Epoch 45/50\n",
      "3/3 [==============================] - 0s 11ms/step - loss: 0.3049 - accuracy: 0.8667 - val_loss: 0.8477 - val_accuracy: 0.4211\n",
      "Epoch 46/50\n",
      "3/3 [==============================] - 0s 11ms/step - loss: 0.3103 - accuracy: 0.8933 - val_loss: 0.7346 - val_accuracy: 0.4211\n",
      "Epoch 47/50\n",
      "3/3 [==============================] - 0s 11ms/step - loss: 0.3174 - accuracy: 0.8533 - val_loss: 0.6855 - val_accuracy: 0.5263\n",
      "Epoch 48/50\n",
      "3/3 [==============================] - 0s 11ms/step - loss: 0.3400 - accuracy: 0.8133 - val_loss: 0.8809 - val_accuracy: 0.4211\n",
      "Epoch 49/50\n",
      "3/3 [==============================] - 0s 10ms/step - loss: 0.2856 - accuracy: 0.8800 - val_loss: 0.5628 - val_accuracy: 0.7368\n",
      "Epoch 50/50\n",
      "3/3 [==============================] - 0s 11ms/step - loss: 0.3197 - accuracy: 0.8533 - val_loss: 1.0431 - val_accuracy: 0.4211\n",
      "Best epoch: 20\n"
     ]
    }
   ],
   "source": [
    "# Build the model with the optimal hyperparameters and train it on the data for 50 epochs\n",
    "model = tuner.hypermodel.build(best_hps)\n",
    "history = model.fit(x_train, y_train, epochs=50, validation_split=0.2)\n",
    "\n",
    "val_acc_per_epoch = history.history['val_accuracy']\n",
    "best_epoch = val_acc_per_epoch.index(max(val_acc_per_epoch)) + 1\n",
    "print('Best epoch: %d' % (best_epoch,))"
   ]
  },
  {
   "cell_type": "code",
   "execution_count": 21,
   "id": "47a822a6",
   "metadata": {},
   "outputs": [
    {
     "name": "stdout",
     "output_type": "stream",
     "text": [
      "1/1 [==============================] - 0s 99ms/step - loss: 1.1367 - accuracy: 0.4583\n",
      "\n",
      "Test accuracy: 0.4583333432674408\n"
     ]
    }
   ],
   "source": [
    "test_loss, test_acc = model.evaluate(x_test, y_test)\n",
    "print('\\nTest accuracy:', test_acc)\n"
   ]
  },
  {
   "cell_type": "code",
   "execution_count": 22,
   "id": "f2e93736",
   "metadata": {},
   "outputs": [
    {
     "name": "stdout",
     "output_type": "stream",
     "text": [
      "Epoch 1/20\n",
      "3/3 [==============================] - 0s 63ms/step - loss: 2.0866 - accuracy: 0.4533 - val_loss: 1.8597 - val_accuracy: 0.3158\n",
      "Epoch 2/20\n",
      "3/3 [==============================] - 0s 12ms/step - loss: 1.6694 - accuracy: 0.5733 - val_loss: 2.5933 - val_accuracy: 0.3158\n",
      "Epoch 3/20\n",
      "3/3 [==============================] - 0s 11ms/step - loss: 1.1739 - accuracy: 0.5867 - val_loss: 0.5976 - val_accuracy: 0.6842\n",
      "Epoch 4/20\n",
      "3/3 [==============================] - 0s 12ms/step - loss: 1.2589 - accuracy: 0.4400 - val_loss: 0.6257 - val_accuracy: 0.6842\n",
      "Epoch 5/20\n",
      "3/3 [==============================] - 0s 11ms/step - loss: 0.8220 - accuracy: 0.5200 - val_loss: 1.2765 - val_accuracy: 0.3158\n",
      "Epoch 6/20\n",
      "3/3 [==============================] - 0s 12ms/step - loss: 1.0010 - accuracy: 0.5733 - val_loss: 1.7504 - val_accuracy: 0.3158\n",
      "Epoch 7/20\n",
      "3/3 [==============================] - 0s 12ms/step - loss: 0.9881 - accuracy: 0.5733 - val_loss: 0.7848 - val_accuracy: 0.4211\n",
      "Epoch 8/20\n",
      "3/3 [==============================] - 0s 11ms/step - loss: 0.6265 - accuracy: 0.6000 - val_loss: 0.5773 - val_accuracy: 0.6842\n",
      "Epoch 9/20\n",
      "3/3 [==============================] - 0s 11ms/step - loss: 0.8525 - accuracy: 0.4667 - val_loss: 0.5728 - val_accuracy: 0.7368\n",
      "Epoch 10/20\n",
      "3/3 [==============================] - 0s 11ms/step - loss: 0.6322 - accuracy: 0.6267 - val_loss: 1.0081 - val_accuracy: 0.3158\n",
      "Epoch 11/20\n",
      "3/3 [==============================] - 0s 12ms/step - loss: 0.6844 - accuracy: 0.5733 - val_loss: 0.9297 - val_accuracy: 0.3684\n",
      "Epoch 12/20\n",
      "3/3 [==============================] - 0s 12ms/step - loss: 0.6023 - accuracy: 0.6400 - val_loss: 0.5870 - val_accuracy: 0.7895\n",
      "Epoch 13/20\n",
      "3/3 [==============================] - 0s 11ms/step - loss: 0.6132 - accuracy: 0.6800 - val_loss: 0.5533 - val_accuracy: 0.7895\n",
      "Epoch 14/20\n",
      "3/3 [==============================] - 0s 11ms/step - loss: 0.6085 - accuracy: 0.6800 - val_loss: 0.6930 - val_accuracy: 0.4737\n",
      "Epoch 15/20\n",
      "3/3 [==============================] - 0s 10ms/step - loss: 0.5819 - accuracy: 0.7067 - val_loss: 0.8077 - val_accuracy: 0.4211\n",
      "Epoch 16/20\n",
      "3/3 [==============================] - 0s 11ms/step - loss: 0.5520 - accuracy: 0.6933 - val_loss: 0.6814 - val_accuracy: 0.5263\n",
      "Epoch 17/20\n",
      "3/3 [==============================] - 0s 10ms/step - loss: 0.5338 - accuracy: 0.7733 - val_loss: 0.6150 - val_accuracy: 0.6842\n",
      "Epoch 18/20\n",
      "3/3 [==============================] - 0s 11ms/step - loss: 0.5288 - accuracy: 0.8000 - val_loss: 0.7535 - val_accuracy: 0.4211\n",
      "Epoch 19/20\n",
      "3/3 [==============================] - 0s 12ms/step - loss: 0.5310 - accuracy: 0.7600 - val_loss: 0.9009 - val_accuracy: 0.3684\n",
      "Epoch 20/20\n",
      "3/3 [==============================] - 0s 12ms/step - loss: 0.5313 - accuracy: 0.7333 - val_loss: 0.6485 - val_accuracy: 0.5789\n"
     ]
    },
    {
     "data": {
      "text/plain": [
       "<keras.callbacks.History at 0x18b37bdf0>"
      ]
     },
     "execution_count": 22,
     "metadata": {},
     "output_type": "execute_result"
    }
   ],
   "source": [
    "# reinstantitate the hypermodel and train with the optimal number of epochs above\n",
    "hypermodel = tuner.hypermodel.build(best_hps)\n",
    "\n",
    "# Retrain the model\n",
    "hypermodel.fit(x_train, y_train, epochs=best_epoch, validation_split=0.2)\n"
   ]
  },
  {
   "cell_type": "code",
   "execution_count": 23,
   "id": "b93f570a",
   "metadata": {},
   "outputs": [
    {
     "name": "stdout",
     "output_type": "stream",
     "text": [
      "1/1 [==============================] - 0s 93ms/step - loss: 0.7542 - accuracy: 0.5000\n",
      "[test loss, test accuracy]: [0.7541597485542297, 0.5]\n"
     ]
    }
   ],
   "source": [
    "eval_result = hypermodel.evaluate(x_test, y_test)\n",
    "print(\"[test loss, test accuracy]:\", eval_result)\n"
   ]
  },
  {
   "cell_type": "markdown",
   "id": "841748c6",
   "metadata": {},
   "source": [
    "So the final accuracy is around 75%.  Can we do better?\n",
    "\n",
    "## Trimming images\n",
    "Perhaps we should try trimming the whitespace in the images?  \n",
    "\n"
   ]
  },
  {
   "cell_type": "code",
   "execution_count": 46,
   "id": "8288f5cc",
   "metadata": {},
   "outputs": [
    {
     "data": {
      "text/plain": [
       "<matplotlib.image.AxesImage at 0x18aa72b90>"
      ]
     },
     "execution_count": 46,
     "metadata": {},
     "output_type": "execute_result"
    },
    {
     "data": {
      "image/png": "[encoded data removed]",
      "text/plain": [
       "<Figure size 432x288 with 1 Axes>"
      ]
     },
     "metadata": {
      "needs_background": "light"
     },
     "output_type": "display_data"
    }
   ],
   "source": [
    "img_test = Image.open(file)\n",
    "img_test = ImageOps.grayscale(img_test)\n",
    "img_test = np.array(img_test).astype(np.float32)\n",
    "\n",
    "plt.imshow(img_test)"
   ]
  },
  {
   "cell_type": "code",
   "execution_count": 47,
   "id": "bbfe377f",
   "metadata": {},
   "outputs": [
    {
     "name": "stdout",
     "output_type": "stream",
     "text": [
      "[[255. 255. 255. 255. 255. 255. 255. 255. 255. 255. 255. 250. 235. 213.\n",
      "  216. 237. 251. 255. 255. 255. 255. 255. 255. 255. 255. 255. 255.]\n",
      " [255. 255. 255. 255. 255. 255. 255. 251. 186. 125.  76.  76.  76.  76.\n",
      "   76.  76.  76.  78. 130. 197. 254. 255. 255. 255. 255. 255. 255.]\n",
      " [255. 255. 255. 255. 255. 253. 196.  76.  76.  76.  76.  76.  76.  76.\n",
      "   76.  76.  76.  76.  76.  76.  79. 206. 255. 255. 255. 255. 255.]\n",
      " [255. 255. 255. 255. 205.  78.  76.  76.  76.  76.  76.  76.  76.  76.\n",
      "   76.  76.  76.  76.  76.  76.  76.  76.  96. 214. 255. 255. 255.]\n",
      " [255. 255. 255. 203.  76.  76.  76.  76.  76.  76.  76.  76.  76.  76.\n",
      "   76.  76.  76.  76.  76.  76.  76.  76.  76.  76. 218. 255. 255.]\n",
      " [255. 255. 223.  76.  76.  76.  76.  76.  76.  76.  76.  76.  76.  76.\n",
      "   76.  76.  76.  76.  76.  76.  76.  76.  76.  76.  76. 235. 255.]\n",
      " [255. 238.  76.  76.  76.  76.  76.  76.  76.  76.  76.  76.  76.  76.\n",
      "   76.  76.  76.  76.  76.  76.  76.  76.  76.  76.  76.  80. 246.]\n",
      " [255. 105.  76.  76.  76.  76.  76.  76.  76.  76.  76.  76.  76.  76.\n",
      "   76.  76.  76.  76.  76.  76.  76.  76.  76.  76.  76.  76. 137.]\n",
      " [249.  76.  76.  76.  76.  76.  76.  76.  76.  76.  76.  76.  76.  76.\n",
      "   76.  76.  76.  76.  76.  76.  76.  76.  76.  76.  76.  76.  76.]\n",
      " [221.  76.  76.  76.  76.  76.  76.  76.  76.  76.  76.  76.  76.  76.\n",
      "   76.  76.  76.  76.  76.  76.  76.  76.  76.  76.  76.  76.  76.]\n",
      " [172.  76.  76.  76.  76.  76.  76.  76.  76.  76.  76.  76.  76.  76.\n",
      "   76.  76.  76.  76.  76.  76.  76.  76.  76.  76.  76.  76.  76.]\n",
      " [104.  76.  76.  76.  76.  76.  76.  76.  76.  76.  76.  76.  76.  76.\n",
      "   76.  76.  76.  76.  76.  76.  76.  76.  76.  76.  76.  76.  76.]\n",
      " [174.  76.  76.  76.  76.  76.  76.  76.  76.  76.  76.  76.  76.  76.\n",
      "   76.  76.  76.  76.  76.  76.  76.  76.  76.  76.  76.  76.  76.]\n",
      " [222.  76.  76.  76.  76.  76.  76.  76.  76.  76.  76.  76.  76.  76.\n",
      "   76.  76.  76.  76.  76.  76.  76.  76.  76.  76.  76.  76.  76.]\n",
      " [249.  76.  76.  76.  76.  76.  76.  76.  76.  76.  76.  76.  76.  76.\n",
      "   76.  76.  76.  76.  76.  76.  76.  76.  76.  76.  76.  76.  76.]\n",
      " [255. 106.  76.  76.  76.  76.  76.  76.  76.  76.  76.  76.  76.  76.\n",
      "   76.  76.  76.  76.  76.  76.  76.  76.  76.  76.  76.  76. 139.]\n",
      " [255. 240.  76.  76.  76.  76.  76.  76.  76.  76.  76.  76.  76.  76.\n",
      "   76.  76.  76.  76.  76.  76.  76.  76.  76.  76.  76.  85. 247.]\n",
      " [255. 255. 226.  76.  76.  76.  76.  76.  76.  76.  76.  76.  76.  76.\n",
      "   76.  76.  76.  76.  76.  76.  76.  76.  76.  76.  76. 236. 255.]\n",
      " [255. 255. 255. 206.  76.  76.  76.  76.  76.  76.  76.  76.  76.  76.\n",
      "   76.  76.  76.  76.  76.  76.  76.  76.  76.  76. 220. 255. 255.]\n",
      " [255. 255. 255. 255. 209.  85.  76.  76.  76.  76.  76.  76.  76.  76.\n",
      "   76.  76.  76.  76.  76.  76.  76.  76. 102. 218. 255. 255. 255.]\n",
      " [255. 255. 255. 255. 255. 254. 200.  76.  76.  76.  76.  76.  76.  76.\n",
      "   76.  76.  76.  76.  76.  76.  86. 209. 255. 255. 255. 255. 255.]\n",
      " [255. 255. 255. 255. 255. 255. 255. 252. 191. 131.  80.  76.  76.  76.\n",
      "   76.  76.  76.  87. 136. 201. 254. 255. 255. 255. 255. 255. 255.]]\n"
     ]
    }
   ],
   "source": [
    "\n",
    "def trim_whitespace(img_np):\n",
    "    \n",
    "    # trim down from top\n",
    "    first_row = 0\n",
    "    while first_row < img_np.shape[0]:\n",
    "        if (img_np[first_row, :] == 255).all():\n",
    "            first_row += 1\n",
    "        else:\n",
    "            break\n",
    "    \n",
    "    # trim up from bottom\n",
    "    last_row = img_np.shape[0] - 1\n",
    "    while last_row >= 0:\n",
    "        if (img_np[last_row, :] == 255).all():\n",
    "            last_row -= 1\n",
    "        else:\n",
    "            break\n",
    "            \n",
    "    # trim in from left\n",
    "    first_col = 0\n",
    "    while first_col < img_np.shape[1]:\n",
    "        if (img_np[:,first_col] == 255).all():\n",
    "            first_col += 1\n",
    "        else:\n",
    "            break\n",
    "            \n",
    "    # trim in from right\n",
    "    last_col = img_np.shape[1] - 1\n",
    "    while last_col > 0:\n",
    "        if (img_np[:,last_col] == 255).all():\n",
    "            last_col -= 1\n",
    "        else:\n",
    "            break\n",
    "            \n",
    "            \n",
    "    return img_np[first_row:last_row, first_col:last_col]\n",
    "                  \n",
    "trimmed = trim_whitespace(img_test)\n",
    "print(trimmed)"
   ]
  },
  {
   "cell_type": "markdown",
   "id": "57f9c1f3",
   "metadata": {},
   "source": [
    "After trimming, the image looks like this:"
   ]
  },
  {
   "cell_type": "code",
   "execution_count": 48,
   "id": "b983ce38",
   "metadata": {},
   "outputs": [
    {
     "data": {
      "text/plain": [
       "<matplotlib.image.AxesImage at 0x18b2113c0>"
      ]
     },
     "execution_count": 48,
     "metadata": {},
     "output_type": "execute_result"
    },
    {
     "data": {
      "image/png": "[encoded data removed]",
      "text/plain": [
       "<Figure size 432x288 with 1 Axes>"
      ]
     },
     "metadata": {
      "needs_background": "light"
     },
     "output_type": "display_data"
    }
   ],
   "source": [
    "trimmed_img = Image.fromarray(trimmed)\n",
    "plt.imshow(trimmed)"
   ]
  },
  {
   "cell_type": "markdown",
   "id": "088ed9d7",
   "metadata": {},
   "source": [
    "After trimming, I scale the images back to 25x25 pixels"
   ]
  },
  {
   "cell_type": "code",
   "execution_count": 49,
   "id": "864b4921",
   "metadata": {},
   "outputs": [
    {
     "data": {
      "image/png": "[encoded data removed]",
      "text/plain": [
       "<PIL.Image.Image image mode=L size=25x25 at 0x18B06F040>"
      ]
     },
     "execution_count": 49,
     "metadata": {},
     "output_type": "execute_result"
    }
   ],
   "source": [
    "trimmed_img = trimmed_img.resize((25,25), Image.ANTIALIAS)\n",
    "ImageOps.grayscale(trimmed_img)\n"
   ]
  },
  {
   "cell_type": "code",
   "execution_count": 50,
   "id": "af19fe6b",
   "metadata": {},
   "outputs": [],
   "source": [
    "def load_img_crop_resize(filename):\n",
    "    # load image with PIL\n",
    "    img = Image.open(filename)\n",
    "    img = ImageOps.grayscale(img)\n",
    "    \n",
    "    # convert to numpy array and trim whitespace\n",
    "    img_np = np.array(img).astype(np.float32)\n",
    "    img_np = trim_whitespace(img_np)\n",
    "    \n",
    "    # convert back to PIL Image to rescale back to 25x25 pixels\n",
    "    img = Image.fromarray(img_np)\n",
    "    img = img.resize((25,25), Image.ANTIALIAS)\n",
    "    img = ImageOps.grayscale(img)\n",
    "    \n",
    "    # return image array scaled to values between 0 and 1\n",
    "    return np.array(img).astype(np.float32) / 255\n",
    "\n",
    "df['resized_shape'] = df['filename'].map(load_img_crop_resize)"
   ]
  },
  {
   "cell_type": "code",
   "execution_count": 51,
   "id": "1127d206",
   "metadata": {},
   "outputs": [
    {
     "data": {
      "text/html": [
       "<div>\n",
       "<style scoped>\n",
       "    .dataframe tbody tr th:only-of-type {\n",
       "        vertical-align: middle;\n",
       "    }\n",
       "\n",
       "    .dataframe tbody tr th {\n",
       "        vertical-align: top;\n",
       "    }\n",
       "\n",
       "    .dataframe thead th {\n",
       "        text-align: right;\n",
       "    }\n",
       "</style>\n",
       "<table border=\"1\" class=\"dataframe\">\n",
       "  <thead>\n",
       "    <tr style=\"text-align: right;\">\n",
       "      <th></th>\n",
       "      <th>filename</th>\n",
       "      <th>num</th>\n",
       "      <th>shape</th>\n",
       "      <th>pixels</th>\n",
       "      <th>label</th>\n",
       "      <th>resized_shape</th>\n",
       "    </tr>\n",
       "  </thead>\n",
       "  <tbody>\n",
       "    <tr>\n",
       "      <th>0</th>\n",
       "      <td>shapes/square43.png</td>\n",
       "      <td>43</td>\n",
       "      <td>square</td>\n",
       "      <td>[[1.0, 0.99215686, 0.5411765, 0.45882353, 0.46...</td>\n",
       "      <td>0</td>\n",
       "      <td>[[0.37254903, 0.27058825, 0.2901961, 0.2862745...</td>\n",
       "    </tr>\n",
       "    <tr>\n",
       "      <th>1</th>\n",
       "      <td>shapes/square34.png</td>\n",
       "      <td>34</td>\n",
       "      <td>square</td>\n",
       "      <td>[[1.0, 1.0, 1.0, 1.0, 1.0, 1.0, 1.0, 1.0, 1.0,...</td>\n",
       "      <td>0</td>\n",
       "      <td>[[0.17254902, 0.105882354, 0.11764706, 0.11372...</td>\n",
       "    </tr>\n",
       "    <tr>\n",
       "      <th>2</th>\n",
       "      <td>shapes/square32.png</td>\n",
       "      <td>32</td>\n",
       "      <td>square</td>\n",
       "      <td>[[1.0, 1.0, 1.0, 1.0, 1.0, 1.0, 1.0, 1.0, 1.0,...</td>\n",
       "      <td>0</td>\n",
       "      <td>[[0.43137255, 0.007843138, 0.007843138, 0.0078...</td>\n",
       "    </tr>\n",
       "    <tr>\n",
       "      <th>3</th>\n",
       "      <td>shapes/circle13.png</td>\n",
       "      <td>13</td>\n",
       "      <td>circle</td>\n",
       "      <td>[[1.0, 1.0, 0.99607843, 1.0, 1.0, 1.0, 1.0, 0....</td>\n",
       "      <td>1</td>\n",
       "      <td>[[1.0, 1.0, 1.0, 1.0, 1.0, 1.0, 1.0, 1.0, 1.0,...</td>\n",
       "    </tr>\n",
       "    <tr>\n",
       "      <th>4</th>\n",
       "      <td>shapes/circle11.png</td>\n",
       "      <td>11</td>\n",
       "      <td>circle</td>\n",
       "      <td>[[1.0, 1.0, 1.0, 1.0, 1.0, 1.0, 1.0, 1.0, 1.0,...</td>\n",
       "      <td>1</td>\n",
       "      <td>[[1.0, 1.0, 0.99607843, 1.0, 0.99607843, 0.988...</td>\n",
       "    </tr>\n",
       "  </tbody>\n",
       "</table>\n",
       "</div>"
      ],
      "text/plain": [
       "              filename  num   shape  \\\n",
       "0  shapes/square43.png   43  square   \n",
       "1  shapes/square34.png   34  square   \n",
       "2  shapes/square32.png   32  square   \n",
       "3  shapes/circle13.png   13  circle   \n",
       "4  shapes/circle11.png   11  circle   \n",
       "\n",
       "                                              pixels  label  \\\n",
       "0  [[1.0, 0.99215686, 0.5411765, 0.45882353, 0.46...      0   \n",
       "1  [[1.0, 1.0, 1.0, 1.0, 1.0, 1.0, 1.0, 1.0, 1.0,...      0   \n",
       "2  [[1.0, 1.0, 1.0, 1.0, 1.0, 1.0, 1.0, 1.0, 1.0,...      0   \n",
       "3  [[1.0, 1.0, 0.99607843, 1.0, 1.0, 1.0, 1.0, 0....      1   \n",
       "4  [[1.0, 1.0, 1.0, 1.0, 1.0, 1.0, 1.0, 1.0, 1.0,...      1   \n",
       "\n",
       "                                       resized_shape  \n",
       "0  [[0.37254903, 0.27058825, 0.2901961, 0.2862745...  \n",
       "1  [[0.17254902, 0.105882354, 0.11764706, 0.11372...  \n",
       "2  [[0.43137255, 0.007843138, 0.007843138, 0.0078...  \n",
       "3  [[1.0, 1.0, 1.0, 1.0, 1.0, 1.0, 1.0, 1.0, 1.0,...  \n",
       "4  [[1.0, 1.0, 0.99607843, 1.0, 0.99607843, 0.988...  "
      ]
     },
     "execution_count": 51,
     "metadata": {},
     "output_type": "execute_result"
    }
   ],
   "source": [
    "df.head()"
   ]
  },
  {
   "cell_type": "markdown",
   "id": "0070eef6",
   "metadata": {},
   "source": [
    "Let's check some of the images to make sure they're right:"
   ]
  },
  {
   "cell_type": "code",
   "execution_count": 69,
   "id": "c26ce62a",
   "metadata": {},
   "outputs": [
    {
     "data": {
      "image/png": "[encoded data removed]",
      "text/plain": [
       "<Figure size 432x288 with 16 Axes>"
      ]
     },
     "metadata": {
      "needs_background": "light"
     },
     "output_type": "display_data"
    }
   ],
   "source": [
    "n_side = 4\n",
    "fig, axs = plt.subplots(n_side,n_side)\n",
    "k = 0\n",
    "for i in range(n_side):\n",
    "    for j in range(n_side):\n",
    "        \n",
    "        axs[i,j].imshow(df['resized_shape'][k])\n",
    "        axs[i,j].set_title(df['shape'][k])\n",
    "        k += 1"
   ]
  },
  {
   "cell_type": "markdown",
   "id": "4f0d597f",
   "metadata": {},
   "source": [
    "Let's try training the model again"
   ]
  },
  {
   "cell_type": "code",
   "execution_count": 72,
   "id": "1f557dc3",
   "metadata": {},
   "outputs": [],
   "source": [
    "test_rows = round(df.shape[0] * 0.8)\n",
    "x_train, x_test = df['resized_shape'][1:test_rows].to_list(), df['resized_shape'][test_rows:].to_list()\n",
    "y_train, y_test = df['label'][1:test_rows], df['label'][test_rows:]\n",
    "\n",
    "x_train = tf.convert_to_tensor(x_train)\n",
    "x_test = tf.convert_to_tensor(x_test)\n",
    "y_train = tf.convert_to_tensor(y_train)\n",
    "t_test = tf.convert_to_tensor(y_train)"
   ]
  },
  {
   "cell_type": "code",
   "execution_count": 73,
   "id": "34f3048c",
   "metadata": {},
   "outputs": [],
   "source": [
    "model2 = tf.keras.Sequential([\n",
    "    tf.keras.layers.Flatten(input_shape=(25, 25)),\n",
    "    tf.keras.layers.Dense(128, activation='relu'),\n",
    "    tf.keras.layers.Dense(2)\n",
    "])\n",
    "\n",
    "model2.compile(optimizer='adam',\n",
    "              loss=tf.keras.losses.SparseCategoricalCrossentropy(from_logits=True),\n",
    "              metrics=['accuracy'])"
   ]
  },
  {
   "cell_type": "code",
   "execution_count": 74,
   "id": "21a4bf7c",
   "metadata": {},
   "outputs": [
    {
     "name": "stdout",
     "output_type": "stream",
     "text": [
      "Epoch 1/10\n",
      "3/3 [==============================] - 0s 2ms/step - loss: 0.6399 - accuracy: 0.6277\n",
      "Epoch 2/10\n",
      "3/3 [==============================] - 0s 2ms/step - loss: 0.4060 - accuracy: 0.8723\n",
      "Epoch 3/10\n",
      "3/3 [==============================] - 0s 2ms/step - loss: 0.3479 - accuracy: 0.8511\n",
      "Epoch 4/10\n",
      "3/3 [==============================] - 0s 2ms/step - loss: 0.2905 - accuracy: 0.9149\n",
      "Epoch 5/10\n",
      "3/3 [==============================] - 0s 2ms/step - loss: 0.2628 - accuracy: 0.9468\n",
      "Epoch 6/10\n",
      "3/3 [==============================] - 0s 2ms/step - loss: 0.2462 - accuracy: 0.9362\n",
      "Epoch 7/10\n",
      "3/3 [==============================] - 0s 2ms/step - loss: 0.2314 - accuracy: 0.9468\n",
      "Epoch 8/10\n",
      "3/3 [==============================] - 0s 2ms/step - loss: 0.2120 - accuracy: 0.9468\n",
      "Epoch 9/10\n",
      "3/3 [==============================] - 0s 2ms/step - loss: 0.1878 - accuracy: 0.9681\n",
      "Epoch 10/10\n",
      "3/3 [==============================] - 0s 2ms/step - loss: 0.1745 - accuracy: 0.9681\n"
     ]
    },
    {
     "data": {
      "text/plain": [
       "<keras.callbacks.History at 0x18e196e90>"
      ]
     },
     "execution_count": 74,
     "metadata": {},
     "output_type": "execute_result"
    }
   ],
   "source": [
    "model2.fit(x_train, y_train, epochs=10)"
   ]
  },
  {
   "cell_type": "markdown",
   "id": "eff23d8f",
   "metadata": {},
   "source": [
    "It seems to do much better now - 96% accuracy.  Let's check the test set."
   ]
  },
  {
   "cell_type": "code",
   "execution_count": 75,
   "id": "1d74f6c5",
   "metadata": {},
   "outputs": [
    {
     "name": "stdout",
     "output_type": "stream",
     "text": [
      "1/1 [==============================] - 0s 88ms/step - loss: 0.3619 - accuracy: 0.8333\n",
      "[test loss, test accuracy]: [0.361851304769516, 0.8333333134651184]\n"
     ]
    }
   ],
   "source": [
    "eval_result = model2.evaluate(x_test, y_test)\n",
    "print(\"[test loss, test accuracy]:\", eval_result)"
   ]
  },
  {
   "cell_type": "markdown",
   "id": "8136dbbe",
   "metadata": {},
   "source": [
    "It seems to have overfit a bit - the accuracy of the test set is lower than the training set.  Pehaps the hyperparamter tuning can help us with this?"
   ]
  },
  {
   "cell_type": "code",
   "execution_count": 76,
   "id": "6f6184bf",
   "metadata": {},
   "outputs": [],
   "source": [
    "tuner2 = kt.Hyperband(model_builder,\n",
    "                     objective='val_accuracy',\n",
    "                     max_epochs=10,\n",
    "                     factor=3,\n",
    "                     directory='my_dir',\n",
    "                     project_name='intro_to_kt_2',\n",
    "                    overwrite=True)\n"
   ]
  },
  {
   "cell_type": "code",
   "execution_count": 77,
   "id": "3e7b85a9",
   "metadata": {},
   "outputs": [
    {
     "name": "stdout",
     "output_type": "stream",
     "text": [
      "Trial 30 Complete [00h 00m 00s]\n",
      "val_accuracy: 0.9473684430122375\n",
      "\n",
      "Best val_accuracy So Far: 1.0\n",
      "Total elapsed time: 00h 00m 21s\n",
      "INFO:tensorflow:Oracle triggered exit\n",
      "\n",
      "The hyperparameter search is complete. The optimal number of units in the first densely-connected\n",
      "layer is 288 and the optimal learning rate for the optimizer\n",
      "is 0.001.\n",
      "\n"
     ]
    }
   ],
   "source": [
    "tuner2.search(x_train, y_train, epochs=50, validation_split=0.2)\n",
    "\n",
    "# Get the optimal hyperparameters\n",
    "best_hps=tuner.get_best_hyperparameters(num_trials=1)[0]\n",
    "\n",
    "print(f\"\"\"\n",
    "The hyperparameter search is complete. The optimal number of units in the first densely-connected\n",
    "layer is {best_hps.get('units')} and the optimal learning rate for the optimizer\n",
    "is {best_hps.get('learning_rate')}.\n",
    "\"\"\")\n"
   ]
  },
  {
   "cell_type": "code",
   "execution_count": null,
   "id": "deb43118",
   "metadata": {},
   "outputs": [],
   "source": [
    "# Build the model with the optimal hyperparameters and train it on the data for 50 epochs\n",
    "model2 = tuner2.hypermodel.build(best_hps)\n",
    "history = model2.fit(x_train, y_train, epochs=50, validation_split=0.2)\n",
    "\n",
    "val_acc_per_epoch = history.history['val_accuracy']\n",
    "best_epoch = val_acc_per_epoch.index(max(val_acc_per_epoch)) + 1\n",
    "print('Best epoch: %d' % (best_epoch,))"
   ]
  },
  {
   "cell_type": "code",
   "execution_count": 80,
   "id": "c5aa55a8",
   "metadata": {},
   "outputs": [
    {
     "name": "stdout",
     "output_type": "stream",
     "text": [
      "Epoch 1/3\n",
      "3/3 [==============================] - 0s 59ms/step - loss: 0.5733 - accuracy: 0.6667 - val_loss: 0.4943 - val_accuracy: 0.7895\n",
      "Epoch 2/3\n",
      "3/3 [==============================] - 0s 11ms/step - loss: 0.4959 - accuracy: 0.6800 - val_loss: 0.4223 - val_accuracy: 0.6842\n",
      "Epoch 3/3\n",
      "3/3 [==============================] - 0s 12ms/step - loss: 0.3379 - accuracy: 0.7200 - val_loss: 0.4833 - val_accuracy: 0.5789\n"
     ]
    },
    {
     "data": {
      "text/plain": [
       "<keras.callbacks.History at 0x18d84b3d0>"
      ]
     },
     "execution_count": 80,
     "metadata": {},
     "output_type": "execute_result"
    }
   ],
   "source": [
    "# reinstantitate the hypermodel and train with the optimal number of epochs above\n",
    "hypermodel2 = tuner2.hypermodel.build(best_hps)\n",
    "\n",
    "# Retrain the model\n",
    "hypermodel2.fit(x_train, y_train, epochs=best_epoch, validation_split=0.2)"
   ]
  },
  {
   "cell_type": "code",
   "execution_count": 81,
   "id": "405953ae",
   "metadata": {},
   "outputs": [
    {
     "name": "stdout",
     "output_type": "stream",
     "text": [
      "1/1 [==============================] - 0s 18ms/step - loss: 0.4863 - accuracy: 0.9167\n",
      "\n",
      "Test accuracy: 0.9166666865348816\n"
     ]
    }
   ],
   "source": [
    "test_loss, test_acc = model2.evaluate(x_test, y_test)\n",
    "print('\\nTest accuracy:', test_acc)\n"
   ]
  },
  {
   "cell_type": "markdown",
   "id": "df056e2d",
   "metadata": {},
   "source": [
    "The final accuracy on the test set is 91% - not too bad!"
   ]
  },
  {
   "cell_type": "code",
   "execution_count": null,
   "id": "8bf50650",
   "metadata": {},
   "outputs": [],
   "source": []
  }
 ],
 "metadata": {
  "kernelspec": {
   "display_name": "Python 3 (ipykernel)",
   "language": "python",
   "name": "python3"
  },
  "language_info": {
   "codemirror_mode": {
    "name": "ipython",
    "version": 3
   },
   "file_extension": ".py",
   "mimetype": "text/x-python",
   "name": "python",
   "nbconvert_exporter": "python",
   "pygments_lexer": "ipython3",
   "version": "3.10.2"
  }
 },
 "nbformat": 4,
 "nbformat_minor": 5
}
